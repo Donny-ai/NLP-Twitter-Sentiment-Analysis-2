{
 "cells": [
  {
   "cell_type": "markdown",
   "metadata": {},
   "source": [
    "# NLP Challenge: Twitter Sentiment Analysis"
   ]
  },
  {
   "cell_type": "code",
   "execution_count": 1,
   "metadata": {},
   "outputs": [],
   "source": [
    "import pandas as pd\n",
    "import numpy as np\n",
    "import matplotlib.pyplot as plt\n",
    "import seaborn as sns\n",
    "from pathlib import Path\n",
    "from sklearn.model_selection import train_test_split\n",
    "from sklearn.feature_extraction.text import TfidfVectorizer\n",
    "from sklearn.metrics import accuracy_score, classification_report, confusion_matrix\n",
    "from sklearn.model_selection import GridSearchCV\n",
    "from sklearn.preprocessing import StandardScaler\n",
    "from sklearn.decomposition import PCA\n",
    "from sklearn.linear_model import LogisticRegression\n",
    "# from gensim.models import Word2Vec\n",
    "# from gensim.test.utils import datapath\n",
    "# from gensim import utils\n",
    "# import gensim\n",
    "import multiprocessing\n",
    "cores = multiprocessing.cpu_count()\n",
    "import os\n",
    "from time import time\n",
    "import torch\n",
    "from transformers import AutoModel, AutoTokenizer, AutoConfig\n",
    "from transformers import AutoModelForSequenceClassification\n",
    "from torch.utils.data import DataLoader"
   ]
  },
  {
   "cell_type": "code",
   "execution_count": 2,
   "metadata": {},
   "outputs": [],
   "source": [
    "# Import the machine learning model of your choice\n",
    "from sklearn.linear_model import LogisticRegression\n",
    "# Example: from sklearn.naive_bayes import MultinomialNB"
   ]
  },
  {
   "cell_type": "code",
   "execution_count": null,
   "metadata": {},
   "outputs": [],
   "source": [
    "# To notify when cell is complete\n",
    "!pip install git+https://github.com/cphyc/jupyter-notify.git\n",
    "%reload_ext jupyternotify"
   ]
  },
  {
   "cell_type": "markdown",
   "metadata": {},
   "source": [
    "# Step 1: Load the Sentiment140 dataset"
   ]
  },
  {
   "cell_type": "code",
   "execution_count": 4,
   "metadata": {},
   "outputs": [
    {
     "data": {
      "text/html": [
       "<div>\n",
       "<style scoped>\n",
       "    .dataframe tbody tr th:only-of-type {\n",
       "        vertical-align: middle;\n",
       "    }\n",
       "\n",
       "    .dataframe tbody tr th {\n",
       "        vertical-align: top;\n",
       "    }\n",
       "\n",
       "    .dataframe thead th {\n",
       "        text-align: right;\n",
       "    }\n",
       "</style>\n",
       "<table border=\"1\" class=\"dataframe\">\n",
       "  <thead>\n",
       "    <tr style=\"text-align: right;\">\n",
       "      <th></th>\n",
       "      <th>target</th>\n",
       "      <th>id</th>\n",
       "      <th>date</th>\n",
       "      <th>flag</th>\n",
       "      <th>user</th>\n",
       "      <th>tweet</th>\n",
       "    </tr>\n",
       "  </thead>\n",
       "  <tbody>\n",
       "    <tr>\n",
       "      <th>0</th>\n",
       "      <td>0</td>\n",
       "      <td>1467810369</td>\n",
       "      <td>Mon Apr 06 22:19:45 PDT 2009</td>\n",
       "      <td>NO_QUERY</td>\n",
       "      <td>_TheSpecialOne_</td>\n",
       "      <td>@switchfoot http://twitpic.com/2y1zl - Awww, t...</td>\n",
       "    </tr>\n",
       "    <tr>\n",
       "      <th>1</th>\n",
       "      <td>0</td>\n",
       "      <td>1467810672</td>\n",
       "      <td>Mon Apr 06 22:19:49 PDT 2009</td>\n",
       "      <td>NO_QUERY</td>\n",
       "      <td>scotthamilton</td>\n",
       "      <td>is upset that he can't update his Facebook by ...</td>\n",
       "    </tr>\n",
       "    <tr>\n",
       "      <th>2</th>\n",
       "      <td>0</td>\n",
       "      <td>1467810917</td>\n",
       "      <td>Mon Apr 06 22:19:53 PDT 2009</td>\n",
       "      <td>NO_QUERY</td>\n",
       "      <td>mattycus</td>\n",
       "      <td>@Kenichan I dived many times for the ball. Man...</td>\n",
       "    </tr>\n",
       "    <tr>\n",
       "      <th>3</th>\n",
       "      <td>0</td>\n",
       "      <td>1467811184</td>\n",
       "      <td>Mon Apr 06 22:19:57 PDT 2009</td>\n",
       "      <td>NO_QUERY</td>\n",
       "      <td>ElleCTF</td>\n",
       "      <td>my whole body feels itchy and like its on fire</td>\n",
       "    </tr>\n",
       "    <tr>\n",
       "      <th>4</th>\n",
       "      <td>0</td>\n",
       "      <td>1467811193</td>\n",
       "      <td>Mon Apr 06 22:19:57 PDT 2009</td>\n",
       "      <td>NO_QUERY</td>\n",
       "      <td>Karoli</td>\n",
       "      <td>@nationwideclass no, it's not behaving at all....</td>\n",
       "    </tr>\n",
       "  </tbody>\n",
       "</table>\n",
       "</div>"
      ],
      "text/plain": [
       "   target          id                          date      flag  \\\n",
       "0       0  1467810369  Mon Apr 06 22:19:45 PDT 2009  NO_QUERY   \n",
       "1       0  1467810672  Mon Apr 06 22:19:49 PDT 2009  NO_QUERY   \n",
       "2       0  1467810917  Mon Apr 06 22:19:53 PDT 2009  NO_QUERY   \n",
       "3       0  1467811184  Mon Apr 06 22:19:57 PDT 2009  NO_QUERY   \n",
       "4       0  1467811193  Mon Apr 06 22:19:57 PDT 2009  NO_QUERY   \n",
       "\n",
       "              user                                              tweet  \n",
       "0  _TheSpecialOne_  @switchfoot http://twitpic.com/2y1zl - Awww, t...  \n",
       "1    scotthamilton  is upset that he can't update his Facebook by ...  \n",
       "2         mattycus  @Kenichan I dived many times for the ball. Man...  \n",
       "3          ElleCTF    my whole body feels itchy and like its on fire   \n",
       "4           Karoli  @nationwideclass no, it's not behaving at all....  "
      ]
     },
     "execution_count": 4,
     "metadata": {},
     "output_type": "execute_result"
    }
   ],
   "source": [
    "# Download the dataset from Kaggle and specify the file path\n",
    "df = pd.read_csv('../training.1600000.processed.noemoticon.csv', names=['target', 'id', 'date', 'flag', 'user', 'tweet'])\n",
    "df.head()"
   ]
  },
  {
   "cell_type": "markdown",
   "metadata": {},
   "source": [
    "# Step 2: Data Preprocessing"
   ]
  },
  {
   "cell_type": "code",
   "execution_count": 5,
   "metadata": {},
   "outputs": [
    {
     "data": {
      "text/plain": [
       "target    0\n",
       "id        0\n",
       "date      0\n",
       "flag      0\n",
       "user      0\n",
       "tweet     0\n",
       "dtype: int64"
      ]
     },
     "execution_count": 5,
     "metadata": {},
     "output_type": "execute_result"
    }
   ],
   "source": [
    "# Clean the text data, remove special characters, handle missing values, etc.\n",
    "df.isnull().sum()"
   ]
  },
  {
   "cell_type": "code",
   "execution_count": 6,
   "metadata": {},
   "outputs": [
    {
     "data": {
      "text/plain": [
       "0"
      ]
     },
     "execution_count": 6,
     "metadata": {},
     "output_type": "execute_result"
    }
   ],
   "source": [
    "df.duplicated().sum()"
   ]
  },
  {
   "cell_type": "code",
   "execution_count": 7,
   "metadata": {},
   "outputs": [],
   "source": [
    "# preprocess function, applying to df\n",
    "def preprocess(text):\n",
    "    new_text = []\n",
    "    for t in text.split(\" \"):\n",
    "        t = '@user' if t.startswith('@') and len(t) > 1 else t\n",
    "        t = 'http' if t.startswith('http') else t\n",
    "        new_text.append(t)\n",
    "    return \" \".join(new_text)\n",
    "df['processed'] = df.tweet.map(lambda x: preprocess(x))"
   ]
  },
  {
   "cell_type": "code",
   "execution_count": 8,
   "metadata": {},
   "outputs": [],
   "source": [
    "df = df.drop(columns=['date', 'flag', 'user', 'tweet'])"
   ]
  },
  {
   "cell_type": "code",
   "execution_count": 23,
   "metadata": {},
   "outputs": [
    {
     "data": {
      "text/html": [
       "<div>\n",
       "<style scoped>\n",
       "    .dataframe tbody tr th:only-of-type {\n",
       "        vertical-align: middle;\n",
       "    }\n",
       "\n",
       "    .dataframe tbody tr th {\n",
       "        vertical-align: top;\n",
       "    }\n",
       "\n",
       "    .dataframe thead th {\n",
       "        text-align: right;\n",
       "    }\n",
       "</style>\n",
       "<table border=\"1\" class=\"dataframe\">\n",
       "  <thead>\n",
       "    <tr style=\"text-align: right;\">\n",
       "      <th></th>\n",
       "      <th>target</th>\n",
       "      <th>id</th>\n",
       "      <th>processed</th>\n",
       "    </tr>\n",
       "  </thead>\n",
       "  <tbody>\n",
       "    <tr>\n",
       "      <th>99995</th>\n",
       "      <td>4</td>\n",
       "      <td>1565294606</td>\n",
       "      <td>Now need 8 followers to compleate 1000  Follow...</td>\n",
       "    </tr>\n",
       "    <tr>\n",
       "      <th>99996</th>\n",
       "      <td>4</td>\n",
       "      <td>1565294669</td>\n",
       "      <td>I knew I had to explain something to my friend...</td>\n",
       "    </tr>\n",
       "    <tr>\n",
       "      <th>99997</th>\n",
       "      <td>4</td>\n",
       "      <td>1565294684</td>\n",
       "      <td>done tweeting..... til tomorrow..</td>\n",
       "    </tr>\n",
       "    <tr>\n",
       "      <th>99998</th>\n",
       "      <td>4</td>\n",
       "      <td>1565294704</td>\n",
       "      <td>@user Act II set is pretty breath-taking -Love...</td>\n",
       "    </tr>\n",
       "    <tr>\n",
       "      <th>99999</th>\n",
       "      <td>4</td>\n",
       "      <td>1565294736</td>\n",
       "      <td>if you don't have an artfire account to sell y...</td>\n",
       "    </tr>\n",
       "  </tbody>\n",
       "</table>\n",
       "</div>"
      ],
      "text/plain": [
       "       target          id                                          processed\n",
       "99995       4  1565294606  Now need 8 followers to compleate 1000  Follow...\n",
       "99996       4  1565294669  I knew I had to explain something to my friend...\n",
       "99997       4  1565294684                 done tweeting..... til tomorrow.. \n",
       "99998       4  1565294704  @user Act II set is pretty breath-taking -Love...\n",
       "99999       4  1565294736  if you don't have an artfire account to sell y..."
      ]
     },
     "execution_count": 23,
     "metadata": {},
     "output_type": "execute_result"
    }
   ],
   "source": [
    "# Select 50,000 rows of each target value and merge for 100k rows\n",
    "sampled_df = pd.concat([df[df['target'] == 0].head(50000),\n",
    "                        df[df['target'] == 4].head(50000)])\n",
    "sampled_df.reset_index(drop=True, inplace=True)\n",
    "sampled_df.tail()"
   ]
  },
  {
   "cell_type": "markdown",
   "metadata": {},
   "source": [
    "# Pulling BERT from huggingface\n",
    "tokenizer = AutoTokenizer.from_pretrained(\"activebus/BERT_Review\")\n",
    "model = AutoModel.from_pretrained(\"activebus/BERT_Review\")# Step 3: Feature Extraction"
   ]
  },
  {
   "cell_type": "code",
   "execution_count": 11,
   "metadata": {
    "tags": []
   },
   "outputs": [
    {
     "name": "stderr",
     "output_type": "stream",
     "text": [
      "Some weights of the model checkpoint at activebus/BERT_Review were not used when initializing BertModel: ['cls.predictions.transform.dense.weight', 'cls.predictions.transform.LayerNorm.weight', 'cls.predictions.bias', 'cls.predictions.transform.LayerNorm.bias', 'cls.predictions.decoder.weight', 'cls.predictions.decoder.bias', 'cls.predictions.transform.dense.bias']\n",
      "- This IS expected if you are initializing BertModel from the checkpoint of a model trained on another task or with another architecture (e.g. initializing a BertForSequenceClassification model from a BertForPreTraining model).\n",
      "- This IS NOT expected if you are initializing BertModel from the checkpoint of a model that you expect to be exactly identical (initializing a BertForSequenceClassification model from a BertForSequenceClassification model).\n"
     ]
    }
   ],
   "source": [
    "# Pulling BERT from huggingface\n",
    "tokenizer = AutoTokenizer.from_pretrained(\"activebus/BERT_Review\")\n",
    "model = AutoModel.from_pretrained(\"activebus/BERT_Review\")"
   ]
  },
  {
   "cell_type": "code",
   "execution_count": 12,
   "metadata": {},
   "outputs": [],
   "source": [
    "# Function to vectorize text with BERT\n",
    "def get_embedding(text):\n",
    "    text = preprocess(text)\n",
    "    encoded_input = tokenizer(text, return_tensors='pt')\n",
    "    features = model(**encoded_input)\n",
    "    features = features[0].detach().numpy() \n",
    "    features_mean = np.mean(features[0], axis=0) \n",
    "    return features_mean"
   ]
  },
  {
   "cell_type": "code",
   "execution_count": null,
   "metadata": {},
   "outputs": [],
   "source": [
    "# Applying function to dataframe\n",
    "sampled_df['embeddings'] = sampled_df.processed.map(lambda x: get_embedding(x))"
   ]
  },
  {
   "cell_type": "code",
   "execution_count": 27,
   "metadata": {},
   "outputs": [
    {
     "data": {
      "text/html": [
       "<div>\n",
       "<style scoped>\n",
       "    .dataframe tbody tr th:only-of-type {\n",
       "        vertical-align: middle;\n",
       "    }\n",
       "\n",
       "    .dataframe tbody tr th {\n",
       "        vertical-align: top;\n",
       "    }\n",
       "\n",
       "    .dataframe thead th {\n",
       "        text-align: right;\n",
       "    }\n",
       "</style>\n",
       "<table border=\"1\" class=\"dataframe\">\n",
       "  <thead>\n",
       "    <tr style=\"text-align: right;\">\n",
       "      <th></th>\n",
       "      <th>target</th>\n",
       "      <th>id</th>\n",
       "      <th>processed</th>\n",
       "      <th>embeddings</th>\n",
       "    </tr>\n",
       "  </thead>\n",
       "  <tbody>\n",
       "    <tr>\n",
       "      <th>99998</th>\n",
       "      <td>4</td>\n",
       "      <td>1565294704</td>\n",
       "      <td>@user Act II set is pretty breath-taking -Love...</td>\n",
       "      <td>[0.17751333, 0.20428097, 0.4664867, 0.08462258...</td>\n",
       "    </tr>\n",
       "    <tr>\n",
       "      <th>99999</th>\n",
       "      <td>4</td>\n",
       "      <td>1565294736</td>\n",
       "      <td>if you don't have an artfire account to sell y...</td>\n",
       "      <td>[0.061174624, 0.39622757, 0.10942916, -0.07039...</td>\n",
       "    </tr>\n",
       "  </tbody>\n",
       "</table>\n",
       "</div>"
      ],
      "text/plain": [
       "       target          id                                          processed  \\\n",
       "99998       4  1565294704  @user Act II set is pretty breath-taking -Love...   \n",
       "99999       4  1565294736  if you don't have an artfire account to sell y...   \n",
       "\n",
       "                                              embeddings  \n",
       "99998  [0.17751333, 0.20428097, 0.4664867, 0.08462258...  \n",
       "99999  [0.061174624, 0.39622757, 0.10942916, -0.07039...  "
      ]
     },
     "execution_count": 27,
     "metadata": {},
     "output_type": "execute_result"
    }
   ],
   "source": [
    "sampled_df.tail(2)"
   ]
  },
  {
   "cell_type": "code",
   "execution_count": 25,
   "metadata": {},
   "outputs": [
    {
     "data": {
      "text/html": [
       "<div>\n",
       "<style scoped>\n",
       "    .dataframe tbody tr th:only-of-type {\n",
       "        vertical-align: middle;\n",
       "    }\n",
       "\n",
       "    .dataframe tbody tr th {\n",
       "        vertical-align: top;\n",
       "    }\n",
       "\n",
       "    .dataframe thead th {\n",
       "        text-align: right;\n",
       "    }\n",
       "</style>\n",
       "<table border=\"1\" class=\"dataframe\">\n",
       "  <thead>\n",
       "    <tr style=\"text-align: right;\">\n",
       "      <th></th>\n",
       "      <th>col1</th>\n",
       "      <th>col2</th>\n",
       "      <th>col3</th>\n",
       "      <th>col4</th>\n",
       "      <th>col5</th>\n",
       "      <th>col6</th>\n",
       "      <th>col7</th>\n",
       "      <th>col8</th>\n",
       "      <th>col9</th>\n",
       "      <th>col10</th>\n",
       "      <th>...</th>\n",
       "      <th>col759</th>\n",
       "      <th>col760</th>\n",
       "      <th>col761</th>\n",
       "      <th>col762</th>\n",
       "      <th>col763</th>\n",
       "      <th>col764</th>\n",
       "      <th>col765</th>\n",
       "      <th>col766</th>\n",
       "      <th>col767</th>\n",
       "      <th>col768</th>\n",
       "    </tr>\n",
       "  </thead>\n",
       "  <tbody>\n",
       "    <tr>\n",
       "      <th>0</th>\n",
       "      <td>-0.041625</td>\n",
       "      <td>0.328282</td>\n",
       "      <td>0.129892</td>\n",
       "      <td>0.113585</td>\n",
       "      <td>0.005617</td>\n",
       "      <td>-0.040401</td>\n",
       "      <td>0.174888</td>\n",
       "      <td>0.396562</td>\n",
       "      <td>-0.229657</td>\n",
       "      <td>0.212538</td>\n",
       "      <td>...</td>\n",
       "      <td>0.080155</td>\n",
       "      <td>-0.115446</td>\n",
       "      <td>-0.000836</td>\n",
       "      <td>-0.267958</td>\n",
       "      <td>-0.002265</td>\n",
       "      <td>0.033216</td>\n",
       "      <td>-0.144090</td>\n",
       "      <td>0.022695</td>\n",
       "      <td>0.272248</td>\n",
       "      <td>0.046899</td>\n",
       "    </tr>\n",
       "    <tr>\n",
       "      <th>1</th>\n",
       "      <td>-0.043312</td>\n",
       "      <td>0.364029</td>\n",
       "      <td>0.352331</td>\n",
       "      <td>0.015108</td>\n",
       "      <td>0.310784</td>\n",
       "      <td>-0.024684</td>\n",
       "      <td>0.179151</td>\n",
       "      <td>0.601353</td>\n",
       "      <td>-0.144423</td>\n",
       "      <td>-0.355677</td>\n",
       "      <td>...</td>\n",
       "      <td>0.137895</td>\n",
       "      <td>-0.102605</td>\n",
       "      <td>0.151654</td>\n",
       "      <td>-0.090540</td>\n",
       "      <td>0.104970</td>\n",
       "      <td>-0.249910</td>\n",
       "      <td>-0.157018</td>\n",
       "      <td>-0.172048</td>\n",
       "      <td>0.219015</td>\n",
       "      <td>-0.146118</td>\n",
       "    </tr>\n",
       "  </tbody>\n",
       "</table>\n",
       "<p>2 rows × 768 columns</p>\n",
       "</div>"
      ],
      "text/plain": [
       "       col1      col2      col3      col4      col5      col6      col7  \\\n",
       "0 -0.041625  0.328282  0.129892  0.113585  0.005617 -0.040401  0.174888   \n",
       "1 -0.043312  0.364029  0.352331  0.015108  0.310784 -0.024684  0.179151   \n",
       "\n",
       "       col8      col9     col10  ...    col759    col760    col761    col762  \\\n",
       "0  0.396562 -0.229657  0.212538  ...  0.080155 -0.115446 -0.000836 -0.267958   \n",
       "1  0.601353 -0.144423 -0.355677  ...  0.137895 -0.102605  0.151654 -0.090540   \n",
       "\n",
       "     col763    col764    col765    col766    col767    col768  \n",
       "0 -0.002265  0.033216 -0.144090  0.022695  0.272248  0.046899  \n",
       "1  0.104970 -0.249910 -0.157018 -0.172048  0.219015 -0.146118  \n",
       "\n",
       "[2 rows x 768 columns]"
      ]
     },
     "execution_count": 25,
     "metadata": {},
     "output_type": "execute_result"
    }
   ],
   "source": [
    "# Converting embeddings to numpy array\n",
    "vectors = np.array(sampled_df.embeddings.tolist(), dtype='float')\n",
    "# Flattening numpy array and building dataframe\n",
    "v_df = pd.DataFrame(vectors, columns=[f'col{i+1}' for i in range(vectors.shape[1])])\n",
    "v_df.head(2)"
   ]
  },
  {
   "cell_type": "code",
   "execution_count": 28,
   "metadata": {},
   "outputs": [
    {
     "data": {
      "text/html": [
       "<div>\n",
       "<style scoped>\n",
       "    .dataframe tbody tr th:only-of-type {\n",
       "        vertical-align: middle;\n",
       "    }\n",
       "\n",
       "    .dataframe tbody tr th {\n",
       "        vertical-align: top;\n",
       "    }\n",
       "\n",
       "    .dataframe thead th {\n",
       "        text-align: right;\n",
       "    }\n",
       "</style>\n",
       "<table border=\"1\" class=\"dataframe\">\n",
       "  <thead>\n",
       "    <tr style=\"text-align: right;\">\n",
       "      <th></th>\n",
       "      <th>target</th>\n",
       "      <th>id</th>\n",
       "      <th>processed</th>\n",
       "      <th>embeddings</th>\n",
       "      <th>col1</th>\n",
       "      <th>col2</th>\n",
       "      <th>col3</th>\n",
       "      <th>col4</th>\n",
       "      <th>col5</th>\n",
       "      <th>col6</th>\n",
       "      <th>...</th>\n",
       "      <th>col759</th>\n",
       "      <th>col760</th>\n",
       "      <th>col761</th>\n",
       "      <th>col762</th>\n",
       "      <th>col763</th>\n",
       "      <th>col764</th>\n",
       "      <th>col765</th>\n",
       "      <th>col766</th>\n",
       "      <th>col767</th>\n",
       "      <th>col768</th>\n",
       "    </tr>\n",
       "  </thead>\n",
       "  <tbody>\n",
       "    <tr>\n",
       "      <th>0</th>\n",
       "      <td>0</td>\n",
       "      <td>1467810369</td>\n",
       "      <td>@user http - Awww, that's a bummer.  You shoul...</td>\n",
       "      <td>[-0.041624658, 0.328282, 0.12989177, 0.1135845...</td>\n",
       "      <td>-0.041625</td>\n",
       "      <td>0.328282</td>\n",
       "      <td>0.129892</td>\n",
       "      <td>0.113585</td>\n",
       "      <td>0.005617</td>\n",
       "      <td>-0.040401</td>\n",
       "      <td>...</td>\n",
       "      <td>0.080155</td>\n",
       "      <td>-0.115446</td>\n",
       "      <td>-0.000836</td>\n",
       "      <td>-0.267958</td>\n",
       "      <td>-0.002265</td>\n",
       "      <td>0.033216</td>\n",
       "      <td>-0.14409</td>\n",
       "      <td>0.022695</td>\n",
       "      <td>0.272248</td>\n",
       "      <td>0.046899</td>\n",
       "    </tr>\n",
       "  </tbody>\n",
       "</table>\n",
       "<p>1 rows × 772 columns</p>\n",
       "</div>"
      ],
      "text/plain": [
       "   target          id                                          processed  \\\n",
       "0       0  1467810369  @user http - Awww, that's a bummer.  You shoul...   \n",
       "\n",
       "                                          embeddings      col1      col2  \\\n",
       "0  [-0.041624658, 0.328282, 0.12989177, 0.1135845... -0.041625  0.328282   \n",
       "\n",
       "       col3      col4      col5      col6  ...    col759    col760    col761  \\\n",
       "0  0.129892  0.113585  0.005617 -0.040401  ...  0.080155 -0.115446 -0.000836   \n",
       "\n",
       "     col762    col763    col764   col765    col766    col767    col768  \n",
       "0 -0.267958 -0.002265  0.033216 -0.14409  0.022695  0.272248  0.046899  \n",
       "\n",
       "[1 rows x 772 columns]"
      ]
     },
     "execution_count": 28,
     "metadata": {},
     "output_type": "execute_result"
    }
   ],
   "source": [
    "# Joining the dataframes\n",
    "combined = pd.concat([sampled_df, v_df], axis=1)\n",
    "combined.head(1)"
   ]
  },
  {
   "cell_type": "code",
   "execution_count": 29,
   "metadata": {
    "tags": []
   },
   "outputs": [],
   "source": [
    "# Leaving text columns in X\n",
    "X = combined.drop(columns=['target', 'id'])\n",
    "y = combined['target']"
   ]
  },
  {
   "cell_type": "code",
   "execution_count": 1,
   "metadata": {
    "jupyter": {
     "source_hidden": true
    },
    "tags": []
   },
   "outputs": [],
   "source": [
    "# Choose a feature extraction method (e.g., TF-IDF, Gensim, or a pretrained language model) and transform the text data into numerical features.\n",
    "# tfidf_vectorizer = TfidfVectorizer(max_features=5000, stop_words='english')\n",
    "# X = tfidf_vectorizer.fit_transform(df['text'])\n",
    "# y = df['target']\n",
    "# YOUR CODE HERE!"
   ]
  },
  {
   "cell_type": "markdown",
   "metadata": {},
   "source": [
    "# Step 4: Model Selection and Training"
   ]
  },
  {
   "cell_type": "code",
   "execution_count": 96,
   "metadata": {},
   "outputs": [],
   "source": [
    "# Split the data into training and testing sets\n",
    "X_train, X_test, y_train, y_test = train_test_split(X, y, test_size=0.25, random_state=42)\n",
    "# Snatching test data with text columns still in-place for later use (sentiment on twitter the company)\n",
    "y_test_df = pd.DataFrame({'target': y_test}) # bulding dataframe for y_test to make pd.concat work\n",
    "twit_test = pd.concat([y_test_df, X_test], axis=1)\n",
    "# Needed these columns for twit_test, now we don't\n",
    "X_train = X_train.drop(columns=['processed', 'embeddings'])\n",
    "X_test = X_test.drop(columns=['processed', 'embeddings'])"
   ]
  },
  {
   "cell_type": "code",
   "execution_count": 97,
   "metadata": {},
   "outputs": [
    {
     "data": {
      "text/html": [
       "<div>\n",
       "<style scoped>\n",
       "    .dataframe tbody tr th:only-of-type {\n",
       "        vertical-align: middle;\n",
       "    }\n",
       "\n",
       "    .dataframe tbody tr th {\n",
       "        vertical-align: top;\n",
       "    }\n",
       "\n",
       "    .dataframe thead th {\n",
       "        text-align: right;\n",
       "    }\n",
       "</style>\n",
       "<table border=\"1\" class=\"dataframe\">\n",
       "  <thead>\n",
       "    <tr style=\"text-align: right;\">\n",
       "      <th></th>\n",
       "      <th>target</th>\n",
       "      <th>processed</th>\n",
       "      <th>embeddings</th>\n",
       "      <th>col1</th>\n",
       "      <th>col2</th>\n",
       "      <th>col3</th>\n",
       "      <th>col4</th>\n",
       "      <th>col5</th>\n",
       "      <th>col6</th>\n",
       "      <th>col7</th>\n",
       "      <th>...</th>\n",
       "      <th>col759</th>\n",
       "      <th>col760</th>\n",
       "      <th>col761</th>\n",
       "      <th>col762</th>\n",
       "      <th>col763</th>\n",
       "      <th>col764</th>\n",
       "      <th>col765</th>\n",
       "      <th>col766</th>\n",
       "      <th>col767</th>\n",
       "      <th>col768</th>\n",
       "    </tr>\n",
       "  </thead>\n",
       "  <tbody>\n",
       "    <tr>\n",
       "      <th>75721</th>\n",
       "      <td>4</td>\n",
       "      <td>home from L&amp;amp;L, would rather work at night,...</td>\n",
       "      <td>[-0.023758927, 0.23790616, 0.14897163, -0.0332...</td>\n",
       "      <td>-0.023759</td>\n",
       "      <td>0.237906</td>\n",
       "      <td>0.148972</td>\n",
       "      <td>-0.03323</td>\n",
       "      <td>0.113582</td>\n",
       "      <td>-0.155933</td>\n",
       "      <td>0.231587</td>\n",
       "      <td>...</td>\n",
       "      <td>0.338975</td>\n",
       "      <td>0.128257</td>\n",
       "      <td>0.04227</td>\n",
       "      <td>0.134445</td>\n",
       "      <td>0.043902</td>\n",
       "      <td>-0.181062</td>\n",
       "      <td>-0.174875</td>\n",
       "      <td>-0.481493</td>\n",
       "      <td>0.090691</td>\n",
       "      <td>-0.054542</td>\n",
       "    </tr>\n",
       "  </tbody>\n",
       "</table>\n",
       "<p>1 rows × 771 columns</p>\n",
       "</div>"
      ],
      "text/plain": [
       "       target                                          processed  \\\n",
       "75721       4  home from L&amp;L, would rather work at night,...   \n",
       "\n",
       "                                              embeddings      col1      col2  \\\n",
       "75721  [-0.023758927, 0.23790616, 0.14897163, -0.0332... -0.023759  0.237906   \n",
       "\n",
       "           col3     col4      col5      col6      col7  ...    col759  \\\n",
       "75721  0.148972 -0.03323  0.113582 -0.155933  0.231587  ...  0.338975   \n",
       "\n",
       "         col760   col761    col762    col763    col764    col765    col766  \\\n",
       "75721  0.128257  0.04227  0.134445  0.043902 -0.181062 -0.174875 -0.481493   \n",
       "\n",
       "         col767    col768  \n",
       "75721  0.090691 -0.054542  \n",
       "\n",
       "[1 rows x 771 columns]"
      ]
     },
     "execution_count": 97,
     "metadata": {},
     "output_type": "execute_result"
    }
   ],
   "source": [
    "twit_test.head(1)"
   ]
  },
  {
   "cell_type": "code",
   "execution_count": 98,
   "metadata": {},
   "outputs": [
    {
     "data": {
      "text/plain": [
       "LogisticRegression(max_iter=1000)"
      ]
     },
     "execution_count": 98,
     "metadata": {},
     "output_type": "execute_result"
    }
   ],
   "source": [
    "# Choose a machine learning model (e.g., Logistic Regression) and train it\n",
    "Regression = LogisticRegression(max_iter=1000)\n",
    "Regression.fit(X_train, y_train)"
   ]
  },
  {
   "cell_type": "code",
   "execution_count": 99,
   "metadata": {},
   "outputs": [
    {
     "name": "stdout",
     "output_type": "stream",
     "text": [
      "Train score: , 0.8123466666666667\n",
      "Test score: , 0.81056\n"
     ]
    }
   ],
   "source": [
    "print(f'Train score: , {Regression.score(X_train, y_train)}')\n",
    "print(f'Test score: , {Regression.score(X_test, y_test)}')"
   ]
  },
  {
   "cell_type": "markdown",
   "metadata": {},
   "source": [
    "# Step 5: Sentiment Analysis"
   ]
  },
  {
   "cell_type": "code",
   "execution_count": 100,
   "metadata": {},
   "outputs": [
    {
     "name": "stdout",
     "output_type": "stream",
     "text": [
      "              precision    recall  f1-score   support\n",
      "\n",
      "           0       0.81      0.81      0.81     12528\n",
      "           4       0.81      0.81      0.81     12472\n",
      "\n",
      "    accuracy                           0.81     25000\n",
      "   macro avg       0.81      0.81      0.81     25000\n",
      "weighted avg       0.81      0.81      0.81     25000\n",
      "\n"
     ]
    }
   ],
   "source": [
    "# Perform sentiment analysis on the dataset using your trained model\n",
    "y_pred = Regression.predict(X_test)\n",
    "print(classification_report(y_test, y_pred))"
   ]
  },
  {
   "cell_type": "code",
   "execution_count": 101,
   "metadata": {},
   "outputs": [
    {
     "data": {
      "text/html": [
       "<div>\n",
       "<style scoped>\n",
       "    .dataframe tbody tr th:only-of-type {\n",
       "        vertical-align: middle;\n",
       "    }\n",
       "\n",
       "    .dataframe tbody tr th {\n",
       "        vertical-align: top;\n",
       "    }\n",
       "\n",
       "    .dataframe thead th {\n",
       "        text-align: right;\n",
       "    }\n",
       "</style>\n",
       "<table border=\"1\" class=\"dataframe\">\n",
       "  <thead>\n",
       "    <tr style=\"text-align: right;\">\n",
       "      <th></th>\n",
       "      <th>target</th>\n",
       "      <th>processed</th>\n",
       "      <th>embeddings</th>\n",
       "      <th>col1</th>\n",
       "      <th>col2</th>\n",
       "      <th>col3</th>\n",
       "      <th>col4</th>\n",
       "      <th>col5</th>\n",
       "      <th>col6</th>\n",
       "      <th>col7</th>\n",
       "      <th>...</th>\n",
       "      <th>col759</th>\n",
       "      <th>col760</th>\n",
       "      <th>col761</th>\n",
       "      <th>col762</th>\n",
       "      <th>col763</th>\n",
       "      <th>col764</th>\n",
       "      <th>col765</th>\n",
       "      <th>col766</th>\n",
       "      <th>col767</th>\n",
       "      <th>col768</th>\n",
       "    </tr>\n",
       "  </thead>\n",
       "  <tbody>\n",
       "    <tr>\n",
       "      <th>789</th>\n",
       "      <td>4</td>\n",
       "      <td>@user One of the reasons we running a poll ove...</td>\n",
       "      <td>[0.18864076, 0.31615606, 0.12423632, 0.0812644...</td>\n",
       "      <td>0.188641</td>\n",
       "      <td>0.316156</td>\n",
       "      <td>0.124236</td>\n",
       "      <td>0.081264</td>\n",
       "      <td>-0.095382</td>\n",
       "      <td>-0.238573</td>\n",
       "      <td>0.375081</td>\n",
       "      <td>...</td>\n",
       "      <td>-0.100441</td>\n",
       "      <td>-0.005507</td>\n",
       "      <td>-0.142958</td>\n",
       "      <td>-0.138373</td>\n",
       "      <td>0.034979</td>\n",
       "      <td>-0.097671</td>\n",
       "      <td>0.131727</td>\n",
       "      <td>-0.085034</td>\n",
       "      <td>0.388696</td>\n",
       "      <td>-0.192831</td>\n",
       "    </tr>\n",
       "  </tbody>\n",
       "</table>\n",
       "<p>1 rows × 771 columns</p>\n",
       "</div>"
      ],
      "text/plain": [
       "     target                                          processed  \\\n",
       "789       4  @user One of the reasons we running a poll ove...   \n",
       "\n",
       "                                            embeddings      col1      col2  \\\n",
       "789  [0.18864076, 0.31615606, 0.12423632, 0.0812644...  0.188641  0.316156   \n",
       "\n",
       "         col3      col4      col5      col6      col7  ...    col759  \\\n",
       "789  0.124236  0.081264 -0.095382 -0.238573  0.375081  ... -0.100441   \n",
       "\n",
       "       col760    col761    col762    col763    col764    col765    col766  \\\n",
       "789 -0.005507 -0.142958 -0.138373  0.034979 -0.097671  0.131727 -0.085034   \n",
       "\n",
       "       col767    col768  \n",
       "789  0.388696 -0.192831  \n",
       "\n",
       "[1 rows x 771 columns]"
      ]
     },
     "execution_count": 101,
     "metadata": {},
     "output_type": "execute_result"
    }
   ],
   "source": [
    "# Selecting only tweets containing 'twitter'. Could not find any tweets containing AI-related companies in this sampled dataset.\n",
    "twitter = twit_test[twit_test['processed'].str.contains('twitter', case=False, na=False)]\n",
    "twitter.reset_index(drop=True, inplace=True)\n",
    "twitter.tail(1)"
   ]
  },
  {
   "cell_type": "markdown",
   "metadata": {},
   "source": [
    "Using trained model to predict Anthropic tweets:"
   ]
  },
  {
   "cell_type": "code",
   "execution_count": 102,
   "metadata": {},
   "outputs": [
    {
     "name": "stdout",
     "output_type": "stream",
     "text": [
      "              precision    recall  f1-score   support\n",
      "\n",
      "           0       0.72      0.73      0.72       252\n",
      "           4       0.87      0.87      0.87       538\n",
      "\n",
      "    accuracy                           0.82       790\n",
      "   macro avg       0.79      0.80      0.80       790\n",
      "weighted avg       0.82      0.82      0.82       790\n",
      "\n"
     ]
    }
   ],
   "source": [
    "# processing twitter selection\n",
    "twit_X = twitter.drop(columns=['target', 'processed', 'embeddings'])\n",
    "twit_y = twitter['target']\n",
    "# Make prediction with model\n",
    "twit_y_pred = Regression.predict(twit_X)\n",
    "print(classification_report(twit_y, twit_y_pred))"
   ]
  },
  {
   "cell_type": "markdown",
   "metadata": {},
   "source": [
    "# Step 6: Visualizations"
   ]
  },
  {
   "cell_type": "code",
   "execution_count": 126,
   "metadata": {},
   "outputs": [],
   "source": [
    "# Select an AI company or product of your choice and collect tweets related to it\n",
    "# Use your trained model to predict sentiment on these tweets\n",
    "# Create visualizations to showcase sentiment (e.g., bar charts, word clouds)\n",
    "\n",
    "# Example: \n",
    "# - Visualize sentiment distribution using seaborn or matplotlib.\n",
    "# - Create word clouds for positive and negative tweets.\n",
    "# - Generate a bar chart showing sentiment scores for the chosen company/product.\n",
    "\n",
    "# Additional Tips:\n",
    "# - Experiment with hyperparameter tuning to improve model performance.\n",
    "# - Use cross-validation for a more robust evaluation.\n",
    "# - Write functions to encapsulate repetitive tasks and improve code organization."
   ]
  },
  {
   "cell_type": "code",
   "execution_count": 135,
   "metadata": {},
   "outputs": [
    {
     "data": {
      "image/png": "[encoded data removed]",
      "text/plain": [
       "<Figure size 600x300 with 1 Axes>"
      ]
     },
     "metadata": {},
     "output_type": "display_data"
    }
   ],
   "source": [
    "sns.set(rc={'figure.figsize': (6, 3)})\n",
    "sns.histplot(data=twit_y, bins=[0, 4], discrete=True, stat=\"count\", common_norm=False)\n",
    "\n",
    "custom_labels = ['Negative', 'Positive']\n",
    "plt.xticks([0.5, 3.5], custom_labels, rotation=0)\n",
    "plt.title('Histogram of Twitter Sentiment')\n",
    "plt.savefig('hist_twit_y.png')\n",
    "plt.show()"
   ]
  },
  {
   "cell_type": "code",
   "execution_count": 136,
   "metadata": {},
   "outputs": [
    {
     "data": {
      "image/png": "[encoded data removed]",
      "text/plain": [
       "<Figure size 600x300 with 1 Axes>"
      ]
     },
     "metadata": {},
     "output_type": "display_data"
    }
   ],
   "source": [
    "sns.set(rc={'figure.figsize': (6, 3)})\n",
    "sns.histplot(data=twit_y_pred, bins=[0, 4], discrete=True, stat=\"count\", common_norm=False)\n",
    "\n",
    "custom_labels = ['Negative', 'Positive']\n",
    "plt.xticks([0.5, 3.5], custom_labels, rotation=0)\n",
    "plt.title('Histogram of Predicted Twitter Sentiment')\n",
    "plt.savefig('hist_twit_y_pred.png')\n",
    "plt.show()"
   ]
  },
  {
   "cell_type": "code",
   "execution_count": 137,
   "metadata": {},
   "outputs": [
    {
     "data": {
      "image/png": "[encoded data removed]",
      "text/plain": [
       "<Figure size 600x300 with 1 Axes>"
      ]
     },
     "metadata": {},
     "output_type": "display_data"
    }
   ],
   "source": [
    "sns.set(rc={'figure.figsize': (6, 3)})\n",
    "sns.histplot(data=y_test, bins=[0, 4], discrete=True, stat=\"count\", common_norm=False)\n",
    "\n",
    "custom_labels = ['Negative', 'Positive']\n",
    "plt.xticks([0.5, 3.5], custom_labels, rotation=0)\n",
    "plt.title('Sentiment of sampled tweets')\n",
    "plt.savefig('hist_y_test.png')\n",
    "plt.show()"
   ]
  },
  {
   "cell_type": "code",
   "execution_count": 138,
   "metadata": {},
   "outputs": [
    {
     "data": {
      "image/png": "[encoded data removed]",
      "text/plain": [
       "<Figure size 600x300 with 1 Axes>"
      ]
     },
     "metadata": {},
     "output_type": "display_data"
    }
   ],
   "source": [
    "sns.set(rc={'figure.figsize': (6, 3)})\n",
    "sns.histplot(data=y_pred, bins=[0, 4], discrete=True, stat=\"count\", common_norm=False)\n",
    "\n",
    "custom_labels = ['Negative', 'Positive']\n",
    "plt.xticks([0.5, 3.5], custom_labels, rotation=0)\n",
    "plt.title('Predicted sentiment of sampled tweets')\n",
    "plt.savefig('hist_y_pred.png')\n",
    "plt.show()"
   ]
  },
  {
   "cell_type": "markdown",
   "metadata": {},
   "source": [
    "# Evaluation"
   ]
  },
  {
   "cell_type": "code",
   "execution_count": 109,
   "metadata": {},
   "outputs": [
    {
     "name": "stdout",
     "output_type": "stream",
     "text": [
      "accuracy: 0.81056\n",
      "classification report:               precision    recall  f1-score   support\n",
      "\n",
      "           0       0.81      0.81      0.81     12528\n",
      "           4       0.81      0.81      0.81     12472\n",
      "\n",
      "    accuracy                           0.81     25000\n",
      "   macro avg       0.81      0.81      0.81     25000\n",
      "weighted avg       0.81      0.81      0.81     25000\n",
      "\n",
      "confusion matrix: [[10132  2396]\n",
      " [ 2340 10132]]\n"
     ]
    }
   ],
   "source": [
    "# Evaluate your model's performance using metrics like accuracy, precision, recall, and F1-score.\n",
    "print(f'accuracy: {accuracy_score(y_test, y_pred)}')\n",
    "print(f'classification report: {classification_report(y_test, y_pred)}')\n",
    "print(f'confusion matrix: {confusion_matrix(y_test, y_pred)}')"
   ]
  },
  {
   "cell_type": "code",
   "execution_count": 110,
   "metadata": {},
   "outputs": [
    {
     "name": "stdout",
     "output_type": "stream",
     "text": [
      "accuracy: 0.8215189873417722\n",
      "classification report:               precision    recall  f1-score   support\n",
      "\n",
      "           0       0.72      0.73      0.72       252\n",
      "           4       0.87      0.87      0.87       538\n",
      "\n",
      "    accuracy                           0.82       790\n",
      "   macro avg       0.79      0.80      0.80       790\n",
      "weighted avg       0.82      0.82      0.82       790\n",
      "\n",
      "confusion matrix: [[183  69]\n",
      " [ 72 466]]\n"
     ]
    }
   ],
   "source": [
    "# Performance on twitter\n",
    "print(f'accuracy: {accuracy_score(twit_y, twit_y_pred)}')\n",
    "print(f'classification report: {classification_report(twit_y, twit_y_pred)}')\n",
    "print(f'confusion matrix: {confusion_matrix(twit_y, twit_y_pred)}')"
   ]
  },
  {
   "cell_type": "markdown",
   "metadata": {},
   "source": [
    "---"
   ]
  }
 ],
 "metadata": {
  "file_extension": ".py",
  "kernelspec": {
   "display_name": "Python 3 (ipykernel)",
   "language": "python",
   "name": "python3"
  },
  "language_info": {
   "codemirror_mode": {
    "name": "ipython",
    "version": 3
   },
   "file_extension": ".py",
   "mimetype": "text/x-python",
   "name": "python",
   "nbconvert_exporter": "python",
   "pygments_lexer": "ipython3",
   "version": "3.7.13"
  },
  "mimetype": "text/x-python",
  "name": "python",
  "npconvert_exporter": "python",
  "pygments_lexer": "ipython3",
  "version": 3
 },
 "nbformat": 4,
 "nbformat_minor": 4
}
